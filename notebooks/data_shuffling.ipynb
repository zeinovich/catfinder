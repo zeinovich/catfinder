{
 "cells": [
  {
   "cell_type": "code",
   "execution_count": 4,
   "metadata": {},
   "outputs": [],
   "source": [
    "import os\n",
    "import shutil\n",
    "import torch.nn as nn\n",
    "import torch\n",
    "import numpy as np"
   ]
  },
  {
   "cell_type": "code",
   "execution_count": 23,
   "metadata": {},
   "outputs": [
    {
     "data": {
      "text/plain": [
       "array([[0.02631579, 0.02631579, 0.02631579, ..., 0.02631579, 0.02631579,\n",
       "        0.02631579],\n",
       "       [0.02631579, 0.02631579, 0.02631579, ..., 0.02631579, 0.02631579,\n",
       "        0.02631579],\n",
       "       [0.02631579, 0.02631579, 0.02631579, ..., 0.02631579, 0.02631579,\n",
       "        0.02631579],\n",
       "       ...,\n",
       "       [0.02631579, 0.02631579, 0.02631579, ..., 0.02631579, 0.02631579,\n",
       "        0.02631579],\n",
       "       [0.02631579, 0.02631579, 0.02631579, ..., 0.02631579, 0.02631579,\n",
       "        0.02631579],\n",
       "       [0.02631579, 0.02631579, 0.02631579, ..., 0.02631579, 0.02631579,\n",
       "        0.02631579]])"
      ]
     },
     "execution_count": 23,
     "metadata": {},
     "output_type": "execute_result"
    }
   ],
   "source": [
    "all_ones = np.ones((38, 38))\n",
    "all_ones /= 38\n",
    "all_ones"
   ]
  },
  {
   "cell_type": "code",
   "execution_count": 26,
   "metadata": {},
   "outputs": [
    {
     "data": {
      "text/plain": [
       "array([1., 1., 1., 1., 1., 1., 1., 1., 1., 1., 1., 1., 1., 1., 1., 1., 1.,\n",
       "       1., 1., 1., 1., 1., 1., 1., 1., 1., 1., 1., 1., 1., 1., 1., 1., 1.,\n",
       "       1., 1., 1., 1.])"
      ]
     },
     "execution_count": 26,
     "metadata": {},
     "output_type": "execute_result"
    }
   ],
   "source": [
    "all_zeros = np.ones((38))\n",
    "all_zeros"
   ]
  },
  {
   "cell_type": "code",
   "execution_count": null,
   "metadata": {},
   "outputs": [],
   "source": []
  },
  {
   "cell_type": "code",
   "execution_count": 29,
   "metadata": {},
   "outputs": [],
   "source": [
    "\n",
    "random_loss = torch.from_numpy(all_ones).float()\n",
    "labels = torch.from_numpy(all_zeros).long()\n",
    "loss = nn.CrossEntropyLoss()\n",
    "loss_ = loss(random_loss, labels)"
   ]
  },
  {
   "cell_type": "code",
   "execution_count": 30,
   "metadata": {},
   "outputs": [
    {
     "data": {
      "text/plain": [
       "tensor(3.6376)"
      ]
     },
     "execution_count": 30,
     "metadata": {},
     "output_type": "execute_result"
    }
   ],
   "source": [
    "loss_"
   ]
  },
  {
   "cell_type": "code",
   "execution_count": 4,
   "metadata": {},
   "outputs": [],
   "source": [
    "folder = 'C:/Users/nikit/catfinder/data/non_class_imgs'"
   ]
  },
  {
   "cell_type": "code",
   "execution_count": 1,
   "metadata": {},
   "outputs": [],
   "source": [
    "from random import sample, shuffle"
   ]
  },
  {
   "cell_type": "code",
   "execution_count": 7,
   "metadata": {},
   "outputs": [],
   "source": [
    "celebs_fs = os.listdir(os.path.join(folder, 'celebs'))\n",
    "\n",
    "for fold in celebs_fs:\n",
    "    root = os.path.join(folder,'celebs', fold)\n",
    "    file_names = os.listdir(root)\n",
    "    for file_name in file_names:\n",
    "        src = os.path.join(root, file_name)\n",
    "        dest = os.path.join(folder, 'celebs', file_name)\n",
    "        shutil.move(src, dest)\n",
    "\n",
    "    os.rmdir(root)\n"
   ]
  },
  {
   "cell_type": "code",
   "execution_count": 9,
   "metadata": {},
   "outputs": [],
   "source": [
    "celebs = os.listdir(os.path.join(folder, 'celebs'))\n",
    "celebs_sample = sample(celebs, 100)\n",
    "\n",
    "train = celebs_sample[:70]\n",
    "val = celebs_sample[70:90]\n",
    "test = celebs_sample[90:]\n",
    "\n",
    "phases = {0: 'train', 1: 'val', 2: 'test'}\n",
    "\n",
    "for phase, split in enumerate([train, val, test]):\n",
    "    phase_ = phases[phase]\n",
    "    root = os.path.join(folder, 'celebs')\n",
    "    root_dest = os.path.join(folder, f'celebs_{phase}')\n",
    "    os.mkdir(root_dest)\n",
    "    for file_name in split:\n",
    "        src = os.path.join(root, file_name)\n",
    "        dest = os.path.join(root_dest, file_name)\n",
    "        shutil.move(src, dest)"
   ]
  }
 ],
 "metadata": {
  "kernelspec": {
   "display_name": "data_analytics",
   "language": "python",
   "name": "python3"
  },
  "language_info": {
   "codemirror_mode": {
    "name": "ipython",
    "version": 3
   },
   "file_extension": ".py",
   "mimetype": "text/x-python",
   "name": "python",
   "nbconvert_exporter": "python",
   "pygments_lexer": "ipython3",
   "version": "3.9.13"
  },
  "orig_nbformat": 4,
  "vscode": {
   "interpreter": {
    "hash": "e5fd812fb4fbb20649985952f396b781e66a19dd943b33b63b4b6da64efdfed4"
   }
  }
 },
 "nbformat": 4,
 "nbformat_minor": 2
}
